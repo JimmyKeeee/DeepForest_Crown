{
 "nbformat": 4,
 "nbformat_minor": 0,
 "metadata": {
  "colab": {
   "name": "end-to-end_treecrown.ipynb",
   "provenance": [],
   "collapsed_sections": []
  },
  "kernelspec": {
   "display_name": "Python 3",
   "name": "python3"
  },
  "language_info": {
   "name": "python"
  },
  "accelerator": "GPU"
 },
 "cells": [
  {
   "cell_type": "markdown",
   "source": [
    "# **End-to-end tree crown use case**"
   ],
   "metadata": {
    "collapsed": false
   }
  },
  {
   "cell_type": "markdown",
   "source": [
    "## pip libraries"
   ],
   "metadata": {
    "collapsed": false
   }
  },
  {
   "cell_type": "code",
   "execution_count": null,
   "outputs": [],
   "source": [
    "#core libraries\n",
    "!pip install scikit-image\n",
    "!pip install opencv-python\n",
    "!pip install pycurl\n",
    "!pip install git+https://github.com/ESM-VFC/intake_zenodo_fetcher.git ##Intake Zenodo Fetcher"
   ],
   "metadata": {
    "collapsed": false,
    "pycharm": {
     "name": "#%%\n"
    }
   }
  },
  {
   "cell_type": "markdown",
   "source": [
    "## load libraries"
   ],
   "metadata": {
    "collapsed": false
   }
  },
  {
   "cell_type": "code",
   "execution_count": null,
   "outputs": [],
   "source": [
    "#load libraries\n",
    "import glob\n",
    "import os\n",
    "import urllib\n",
    "\n",
    "import intake\n",
    "from intake_zenodo_fetcher import download_zenodo_files_for_entry\n",
    "import matplotlib.pyplot as plt\n",
    "import xmltodict\n",
    "import cv2\n",
    "\n",
    "%matplotlib inline"
   ],
   "metadata": {
    "collapsed": false,
    "pycharm": {
     "name": "#%%\n"
    }
   }
  },
  {
   "cell_type": "markdown",
   "source": [
    "## create and load intake catalogue for images"
   ],
   "metadata": {
    "collapsed": false
   }
  },
  {
   "cell_type": "code",
   "execution_count": null,
   "outputs": [],
   "source": [
    "%%writefile tc.yaml\n",
    "sources:\n",
    "  NEONTREE_rgb:\n",
    "    driver: xarray_image\n",
    "    description: 'NeonTreeEvaluation RGB images (collection)'\n",
    "    metadata:\n",
    "      zenodo_doi: \"10.5281/zenodo.3459803\"\n",
    "    args:\n",
    "      urlpath: \"{{ CATALOG_DIR }}/NEONsample_RGB/2018_MLBS_3_541000_4140000_image_crop.tif\""
   ],
   "metadata": {
    "collapsed": false,
    "pycharm": {
     "name": "#%%\n"
    }
   }
  },
  {
   "cell_type": "code",
   "execution_count": null,
   "outputs": [],
   "source": [
    "cat_tc = intake.open_catalog('tc.yaml')"
   ],
   "metadata": {
    "collapsed": false,
    "pycharm": {
     "name": "#%%\n"
    }
   }
  },
  {
   "cell_type": "code",
   "execution_count": null,
   "outputs": [],
   "source": [
    "for catalog_entry in list(cat_tc):\n",
    "    download_zenodo_files_for_entry(\n",
    "        cat_tc[catalog_entry],\n",
    "        force_download=False\n",
    "    )"
   ],
   "metadata": {
    "collapsed": false,
    "pycharm": {
     "name": "#%%\n"
    }
   }
  },
  {
   "cell_type": "code",
   "execution_count": null,
   "outputs": [],
   "source": [
    "tc_rgb = cat_tc[\"NEONTREE_rgb\"].to_dask()"
   ],
   "metadata": {
    "collapsed": false,
    "pycharm": {
     "name": "#%%\n"
    }
   }
  },
  {
   "cell_type": "code",
   "execution_count": null,
   "outputs": [],
   "source": [
    "tc_rgb"
   ],
   "metadata": {
    "collapsed": false,
    "pycharm": {
     "name": "#%%\n"
    }
   }
  },
  {
   "cell_type": "markdown",
   "source": [
    "## load and prepare labels"
   ],
   "metadata": {
    "collapsed": false,
    "pycharm": {
     "name": "#%% md\n"
    }
   }
  },
  {
   "cell_type": "code",
   "execution_count": null,
   "outputs": [],
   "source": [
    "filenames = glob.glob('./NEONsample_RGB/*.tif')\n",
    "filesn = [os.path.basename(i) for i in filenames]"
   ],
   "metadata": {
    "collapsed": false,
    "pycharm": {
     "name": "#%%\n"
    }
   }
  },
  {
   "cell_type": "code",
   "execution_count": null,
   "outputs": [],
   "source": [
    "##Create ordered dictionary of .xml annotation files\n",
    "def loadxml(imagename):\n",
    "  imagename = imagename.replace('.tif','')\n",
    "  fullurl = \"https://raw.githubusercontent.com/weecology/NeonTreeEvaluation/master/annotations/\" + imagename + \".xml\"\n",
    "  file = urllib.request.urlopen(fullurl)\n",
    "  data = file.read()\n",
    "  file.close()\n",
    "  data = xmltodict.parse(data)\n",
    "  return data\n",
    "\n",
    "allxml = [loadxml(i) for i in filesn]\n"
   ],
   "metadata": {
    "collapsed": false,
    "pycharm": {
     "name": "#%%\n"
    }
   }
  },
  {
   "cell_type": "code",
   "execution_count": null,
   "outputs": [],
   "source": [
    "# function to extract bounding boxes\n",
    "def extractbb(i):\n",
    "  bb = [f['bndbox'] for f in allxml[i]['annotation']['object']]\n",
    "  return bb\n",
    "\n",
    "bball = [extractbb(i) for i in range(0,len(allxml))]\n",
    "print(len(bball))"
   ],
   "metadata": {
    "collapsed": false,
    "pycharm": {
     "name": "#%%\n"
    }
   }
  },
  {
   "cell_type": "markdown",
   "source": [],
   "metadata": {
    "collapsed": false
   }
  }
 ]
}