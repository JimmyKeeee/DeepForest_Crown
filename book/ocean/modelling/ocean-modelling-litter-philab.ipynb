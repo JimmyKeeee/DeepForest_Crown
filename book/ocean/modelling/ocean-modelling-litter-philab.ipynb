{
 "cells": [
  {
   "cell_type": "markdown",
   "metadata": {},
   "source": [
    "# Detecting floating objects using deep learning and Sentinel-2 imagery\n",
    "\n",
    ":::{eval-rst}\n",
    ":opticon:`tag`\n",
    ":badge:`Ocean,badge-primary`\n",
    ":badge:`Modelling,badge-secondary`\n",
    ":::"
   ]
  },
  {
   "cell_type": "markdown",
   "metadata": {},
   "source": [
    "## Context\n",
    "\n",
    "### Purpose\n",
    "Detect floating targets that might contain plastic, algea, sargassum, wood, etc. in coastal areas using deep learning methods and Sentinel-2 data.\n",
    "\n",
    "### Modelling approach\n",
    "\n",
    "In this notebook we show the potential of deep learning methods to detect and highlight floating debris of various natures in coastal areas. Initially, we demonstrate how to download a Sentinel-2 image over a coastal area of interest directly from this notebook. We also provide the possibility to load an image provided with this notebook in case the user does not wish to do the downloading. Once the image is downloaded/loaded, we apply pre-trained weights in order to identify the potential existence of floating targets. Our experiments were implemented using Pytorch. Further details on the labeled dataset and the code can be found here: https://github.com/ESA-PhiLab/floatingobjects.\n",
    "\n",
    "### Highlights\n",
    "\n",
    "* We demonstrate the use of deep neural networks for the detection of floating objects on Sentinel-2 data.\n",
    "* We give the user the possibility to specify the coordinates of a coastal Area Of Interest (AOI) of their choice in the reference system WGS84 (EPSG:4326).\n",
    "* The exact AOI can be displayed on a real map to verify the coordinates.\n",
    "* The user can then directly download the corresponding Sentinel-2 image, if available, and apply the pre-trained weights. Alternatively, the user can just load the image provided with this notebook to run the predictions.\n",
    "* Other use cases are included in order to show the variety of the detected objects.\n",
    "* Finally, the user can visualise the RGB image, the NDVI and FDI indices along with the predictions and classifications.\n",
    "* Remark: if the user wants to apply the model on a specific '.tif' image, it's possible to skip ahead to the **Compute model predictions** section.\n",
    "\n",
    "### Contributions\n",
    "\n",
    "#### Notebook\n",
    "* Jamila Mifdal (author), European Space Agency Φ-lab, [@jmifdal](https://github.com/jmifdal)\n",
    "* Raquel Carmo (author), European Space Agency Φ-lab, [@raquelcarmo](https://github.com/raquelcarmo)\n",
    "* Alejandro Coca-Castro (reviewer), The Alan Turing Institute, [@acocac](https://github.com/acocac)\n",
    "\n",
    "#### Modelling codebase\n",
    "* Jamila Mifdal (author), European Space Agency Φ-lab, [@jmifdal](https://github.com/jmifdal)\n",
    "* Raquel Carmo (author), European Space Agency Φ-lab, [@raquelcarmo](https://github.com/raquelcarmo)\n",
    "* Marc Rußwurm (author), EPFL-ECEO, [@marccoru](https://github.com/MarcCoru)\n",
    "\n",
    "#### Modelling publications\n",
    "```{bibliography}\n",
    "  :style: plain\n",
    "  :list: bullet\n",
    "  :filter: topic % \"ocean-modelling-floatingobjects_philab\"\n",
    "```\n",
    "\n",
    "#### Modelling funding\n",
    "TBC\n",
    "\n",
    ":::{note}\n",
    "The notebook contributors acknowledge ...\n",
    ":::"
   ]
  },
  {
   "cell_type": "markdown",
   "metadata": {
    "tags": []
   },
   "source": [
    "## Install and load libraries"
   ]
  },
  {
   "cell_type": "code",
   "execution_count": null,
   "metadata": {},
   "outputs": [],
   "source": [
    "#Install sentinelsal library\n",
    "!pip -q install sentinelsat --upgrade\n",
    "\n",
    "#Install pytorch and segmentation models\n",
    "!pip -q install torch\n",
    "!pip -q install segmentation_models_pytorch\n",
    "\n",
    "#Install geospatial libraries\n",
    "!pip -q install geopandas\n",
    "!pip -q install fiona\n",
    "!pip -q install rasterio\n",
    "!pip -q install shapely\n",
    "\n",
    "#Install library to retieve data from zenodo\n",
    "!pip3 install zenodo_get\n",
    "#Alternatively run: !pip3 install git+https://gitlab.com/dvolgyes/zenodo_get\n",
    "\n",
    "#Install interactive plotting\n",
    "!pip -q install holoviews\n",
    "!pip -q install hvplot\n",
    "\n",
    "#Install other libraries\n",
    "!pip -q install folium natsort xarray scikit-image xmlschema lxml gdown"
   ]
  },
  {
   "cell_type": "code",
   "execution_count": null,
   "metadata": {},
   "outputs": [],
   "source": [
    "import numpy as np\n",
    "import os, json\n",
    "from glob import glob\n",
    "from sentinelsat import SentinelAPI, read_geojson, geojson_to_wkt\n",
    "from datetime import date\n",
    "from natsort import natsorted\n",
    "import xml.etree.ElementTree as ET\n",
    "import xarray as xr\n",
    "import shutil\n",
    "import gdown\n",
    "\n",
    "#Machine learning libraries\n",
    "import torch\n",
    "import segmentation_models_pytorch\n",
    "\n",
    "#Visualisation\n",
    "import matplotlib, matplotlib.cm, param\n",
    "import matplotlib.pyplot as plt\n",
    "from skimage.exposure import equalize_hist\n",
    "import holoviews as hv\n",
    "from holoviews import opts\n",
    "import panel as pn\n",
    "import hvplot\n",
    "import hvplot.xarray  # noqa\n",
    "\n",
    "#Geospatial libraries\n",
    "from shapely.geometry import box\n",
    "import geopandas as gpd\n",
    "import folium\n",
    "from fiona.crs import from_epsg\n",
    "import rasterio as rio\n",
    "from rasterio.mask import mask\n",
    "from rasterio.windows import Window\n",
    "from rasterio.plot import show\n",
    "\n",
    "import warnings\n",
    "warnings.filterwarnings('ignore')"
   ]
  },
  {
   "cell_type": "code",
   "source": [
    "import os\n",
    "# intake library and plugin\n",
    "import intake\n",
    "from intake_zenodo_fetcher import download_zenodo_files_for_entry\n",
    "import urllib.request"
   ],
   "metadata": {
    "collapsed": false,
    "pycharm": {
     "name": "#%%\n"
    }
   },
   "execution_count": 58,
   "outputs": []
  },
  {
   "cell_type": "markdown",
   "source": [
    "## Set folder structure"
   ],
   "metadata": {
    "collapsed": false,
    "pycharm": {
     "name": "#%% md\n"
    }
   }
  },
  {
   "cell_type": "code",
   "execution_count": 59,
   "outputs": [
    {
     "data": {
      "text/plain": "[None]"
     },
     "execution_count": 59,
     "metadata": {},
     "output_type": "execute_result"
    }
   ],
   "source": [
    "# Define the project main folder\n",
    "data_folder = './ocean-modelling-litter-philab'\n",
    "\n",
    "# Set the folder structure\n",
    "config = {\n",
    "    'in_geotiff': os.path.join(data_folder, 'input','tiff'),\n",
    "    'in_geojson': os.path.join(data_folder, 'input','geojson'),\n",
    "    'out_geotiff': os.path.join(data_folder, 'output','raster'),\n",
    "}\n",
    "\n",
    "# List comprehension for the folder structure code\n",
    "[os.makedirs(val) for key, val in config.items() if not os.path.exists(val)]\n",
    "\n",
    "## Load and prepare input image"
   ],
   "metadata": {
    "collapsed": false,
    "pycharm": {
     "name": "#%%\n"
    }
   }
  },
  {
   "cell_type": "markdown",
   "source": [
    "### Fetch input data using `intake`\n",
    "\n",
    "The input data of this notebook can be fetched directly from a [Zenodo repository](https://zenodo.org/record/5827377#.YdgfjGjMK9I) using intake. We provide the repository DOI (10.5281/zenodo.5827377) and we set the target entries with corresponding output folders where the downloaded files will be stored. Since the zenodo repository is relatively heavy (~1GB), the download might take some time."
   ],
   "metadata": {
    "collapsed": false
   }
  },
  {
   "cell_type": "code",
   "execution_count": 49,
   "outputs": [],
   "source": [
    "# write a catalog YAML file for GeoJSON aoi\n",
    "catalog_vector = os.path.join(data_folder, 'catalog_vector.yaml')\n",
    "\n",
    "with open(catalog_vector, 'w') as f:\n",
    "    f.write('''\n",
    "plugins:\n",
    "  source:\n",
    "    - module: intake_geopandas\n",
    "sources:\n",
    "  rio_geojson:\n",
    "    driver: geojson\n",
    "    description: 'AOI of the study area in Rio de Janeiro, Brazil'\n",
    "    metadata:\n",
    "      zenodo_doi: \"10.5281/zenodo.5827377\"\n",
    "    args:\n",
    "      urlpath: \"{{ CATALOG_DIR }}/input/geojson/RioDeJaneiro.geojson\"\n",
    "      ''')\n",
    "\n",
    "# write a catalog YAML file for GeoTIFF images\n",
    "catalog_images = os.path.join(data_folder, 'catalog_images.yaml')\n",
    "\n",
    "with open(catalog_images, 'w') as f:\n",
    "    f.write('''\n",
    "plugins:\n",
    "  source:\n",
    "    - module: intake_xarray\n",
    "sources:\n",
    "  cancun:\n",
    "    driver: rasterio\n",
    "    description: 'GeoTIFF image in Cancun'\n",
    "    metadata:\n",
    "      zenodo_doi: \"10.5281/zenodo.5827377\"\n",
    "    args:\n",
    "      urlpath: \"{{ CATALOG_DIR }}/input/tiff/cancun_20180914.tif\"\n",
    "  mytilini:\n",
    "    driver: rasterio\n",
    "    description: 'GeoTIFF image in Mytilini'\n",
    "    metadata:\n",
    "      zenodo_doi: \"10.5281/zenodo.5827377\"\n",
    "    args:\n",
    "      urlpath: \"{{ CATALOG_DIR }}/input/tiff/mytilini_20210621.tif\"\n",
    "  riodejaneiro:\n",
    "    driver: rasterio\n",
    "    description: 'GeoTIFF image in Rio de Janeiro'\n",
    "    metadata:\n",
    "      zenodo_doi: \"10.5281/zenodo.5827377\"\n",
    "    args:\n",
    "      urlpath: \"{{ CATALOG_DIR }}/input/tiff/RioDeJaneiro.tif\"\n",
    "  tangshan_20180130:\n",
    "    driver: rasterio\n",
    "    description: 'GeoTIFF image in tangshan'\n",
    "    metadata:\n",
    "      zenodo_doi: \"10.5281/zenodo.5827377\"\n",
    "    args:\n",
    "      urlpath: \"{{ CATALOG_DIR }}/input/tiff/tangshan_20180130.tif\"\n",
    "      ''')"
   ],
   "metadata": {
    "collapsed": false,
    "pycharm": {
     "name": "#%%\n"
    }
   }
  },
  {
   "cell_type": "code",
   "execution_count": 50,
   "outputs": [],
   "source": [
    "cat_vector = intake.open_catalog(catalog_vector)\n",
    "cat_images = intake.open_catalog(catalog_images)"
   ],
   "metadata": {
    "collapsed": false,
    "pycharm": {
     "name": "#%%\n"
    }
   }
  },
  {
   "cell_type": "code",
   "execution_count": null,
   "outputs": [],
   "source": [
    "download_zenodo_files_for_entry(cat_vector['rio_geojson'], force_download=True)\n",
    "\n",
    "for catalog_entry in list(cat_images):\n",
    "    download_zenodo_files_for_entry(\n",
    "        cat_images[catalog_entry],\n",
    "        force_download=False\n",
    "    )\n",
    "\n",
    "## Load Sentinel-2 data from a local source (.tif format)\n",
    "Alternatively to the procedure above, the user could also load a Sentinel-2 image available locally. It would be preferable if the user could provide the bounding box of the S2 scene using the WGS84 coordinates that could easily be recovered, for instance, from Google Earth Engine.\n",
    "\n",
    "In the example below, we load the .tif image provided in the [Zenodo repository](https://zenodo.org/record/5827377#.YdgfjGjMK9I), called \"RioDeJaneiro.tif\"."
   ],
   "metadata": {
    "collapsed": false,
    "pycharm": {
     "name": "#%%\n"
    }
   }
  },
  {
   "cell_type": "code",
   "execution_count": null,
   "metadata": {},
   "outputs": [],
   "source": [
    "#Load the .tif image\n",
    "path_image = './ocean-modelling-litter-philab/RioDeJaneiro.tif'\n",
    "\n",
    "with rio.open(path_image, \"r\") as src_pred:\n",
    "    meta = src_pred.meta\n",
    "    image = src_pred.read()    \n",
    "image.shape"
   ]
  },
  {
   "cell_type": "markdown",
   "metadata": {
    "tags": []
   },
   "source": [
    "## Compute model predictions\n",
    "In this work we focus on the spatial patterns of the floating targets, thus we address this detection task as a binary classification problem of floating objects versus water surface. A deep learning-based segmentation model was chosen to perform the detection and delineation of the floating targets: a U-Net Convolutional Neural Network (CNN). This model has been pre-trained on a large open-source hand-labeled Sentinel-2 dataset over coastal water bodies, developed by the authors. For generalization purposes, this dataset includes Sentinel-2 products from both Level-1C Top-Of-Atmosphere (TOA) and Level-2A Bottom-Of-Atmosphere (BOA). Please refer to the **Modelling publications** section for further details."
   ]
  },
  {
   "cell_type": "markdown",
   "metadata": {},
   "source": [
    "### Load the model and its pre-trained weights\n",
    "For the U-Net, there are two pre-trained models available (described in this [link](https://github.com/ESA-PhiLab/floatingobjects/blob/master/hubconf.py)). For the sake of simplicity we are loading the weights of the 'unet_seed0', which refers to a U-Net architecture pre-trained for 50 epochs, with batch size of 160, learning rate of 0.001 and seed 0."
   ]
  },
  {
   "cell_type": "code",
   "execution_count": 67,
   "metadata": {},
   "outputs": [
    {
     "ename": "NameError",
     "evalue": "name 'torch' is not defined",
     "output_type": "error",
     "traceback": [
      "\u001B[0;31m---------------------------------------------------------------------------\u001B[0m",
      "\u001B[0;31mNameError\u001B[0m                                 Traceback (most recent call last)",
      "\u001B[0;32m/var/folders/l8/99_59fvn4bl2szm125grkgqw0000gr/T/ipykernel_10924/289978693.py\u001B[0m in \u001B[0;36m<module>\u001B[0;34m\u001B[0m\n\u001B[1;32m      1\u001B[0m \u001B[0;31m#Device to run the computations on\u001B[0m\u001B[0;34m\u001B[0m\u001B[0;34m\u001B[0m\u001B[0;34m\u001B[0m\u001B[0m\n\u001B[0;32m----> 2\u001B[0;31m \u001B[0mdevice\u001B[0m \u001B[0;34m=\u001B[0m \u001B[0;34m'cuda'\u001B[0m \u001B[0;32mif\u001B[0m \u001B[0mtorch\u001B[0m\u001B[0;34m.\u001B[0m\u001B[0mcuda\u001B[0m\u001B[0;34m.\u001B[0m\u001B[0mis_available\u001B[0m\u001B[0;34m(\u001B[0m\u001B[0;34m)\u001B[0m \u001B[0;32melse\u001B[0m \u001B[0;34m'cpu'\u001B[0m\u001B[0;34m\u001B[0m\u001B[0;34m\u001B[0m\u001B[0m\n\u001B[0m\u001B[1;32m      3\u001B[0m \u001B[0;34m\u001B[0m\u001B[0m\n\u001B[1;32m      4\u001B[0m \u001B[0;31m#Available models and weights\u001B[0m\u001B[0;34m\u001B[0m\u001B[0;34m\u001B[0m\u001B[0;34m\u001B[0m\u001B[0m\n\u001B[1;32m      5\u001B[0m \u001B[0munet_seed0\u001B[0m \u001B[0;34m=\u001B[0m \u001B[0mtorch\u001B[0m\u001B[0;34m.\u001B[0m\u001B[0mhub\u001B[0m\u001B[0;34m.\u001B[0m\u001B[0mload\u001B[0m\u001B[0;34m(\u001B[0m\u001B[0;34m'ESA-PhiLab/floatingobjects:master'\u001B[0m\u001B[0;34m,\u001B[0m \u001B[0;34m'unet_seed0'\u001B[0m\u001B[0;34m,\u001B[0m \u001B[0mmap_location\u001B[0m\u001B[0;34m=\u001B[0m\u001B[0mtorch\u001B[0m\u001B[0;34m.\u001B[0m\u001B[0mdevice\u001B[0m\u001B[0;34m(\u001B[0m\u001B[0mdevice\u001B[0m\u001B[0;34m)\u001B[0m\u001B[0;34m)\u001B[0m\u001B[0;34m\u001B[0m\u001B[0;34m\u001B[0m\u001B[0m\n",
      "\u001B[0;31mNameError\u001B[0m: name 'torch' is not defined"
     ]
    }
   ],
   "source": [
    "#Device to run the computations on\n",
    "device = 'cuda' if torch.cuda.is_available() else 'cpu'\n",
    "\n",
    "#Available models and weights\n",
    "unet_seed0 = torch.hub.load('ESA-PhiLab/floatingobjects:master', 'unet_seed0', map_location=torch.device(device))\n",
    "#unet_seed1 = torch.hub.load('ESA-PhiLab/floatingobjects:master', 'unet_seed1', map_location=torch.device(device))\n",
    "\n",
    "#Select model\n",
    "model = unet_seed0"
   ]
  },
  {
   "cell_type": "markdown",
   "metadata": {},
   "source": [
    "### Compute predictions\n",
    "Input the image to the model to yield predictions."
   ]
  },
  {
   "cell_type": "code",
   "execution_count": null,
   "metadata": {},
   "outputs": [],
   "source": [
    "#Predict the floating objects with the model specified above\n",
    "l1cbands = [\"B1\", \"B2\", \"B3\", \"B4\", \"B5\", \"B6\", \"B7\", \"B8\", \"B8A\", \"B9\", \"B10\", \"B11\", \"B12\"]\n",
    "l2abands = [\"B1\", \"B2\", \"B3\", \"B4\", \"B5\", \"B6\", \"B7\", \"B8\", \"B8A\", \"B9\", \"B11\", \"B12\"]\n",
    "\n",
    "#If L1C image (13 bands), read only the 12 bands compatible with L2A data\n",
    "if (image.shape[0] == 13):\n",
    "    image = image[[l1cbands.index(b) for b in l2abands]]\n",
    "image = image.astype(float)\n",
    "image *= 1e-4\n",
    "image = torch.from_numpy(image)\n",
    "\n",
    "#Compute predictions\n",
    "with torch.no_grad():\n",
    "    x = image.unsqueeze(0)\n",
    "    y_logits = torch.sigmoid(model(x.to(device)).squeeze(0))\n",
    "    y_score = y_logits.cpu().detach().numpy()[0]"
   ]
  },
  {
   "cell_type": "markdown",
   "metadata": {},
   "source": [
    "### Compute NDVI and FDI indices\n",
    "For detecting marine litter, pixelwise spectral features such as the Normalized Difference Vegetation Index (NDVI) and the [Floating Debris Index (FDI)](https://www.nature.com/articles/s41598-020-62298-z) are often chosen as problem-specific features when using model-driven classifiers (e.g. Random Forest or Naïve Bayes). In this case, because we're applying a data-driven approach (U-Net), we only resort to these indices for visual inspection purposes.\n",
    "To compute these indices, we used the following equations:\n",
    "\n",
    "$$NDVI=\\dfrac{R_{rs,NIR}-R_{rs,RED}}{R_{rs,NIR}+R_{rs,RED}}$$\n",
    "\n",
    "$$FDI=R_{rs,NIR}-R'_{rs,NIR}$$\n",
    "\n",
    "$$R'_{rs,NIR} = R_{rs,RED_2} + (R_{rs,SWIR_1} - R_{rs,RED_2}) \\times \\dfrac{(\\lambda_{NIR} - \\lambda_{RED})}{(\\lambda_{SWIR_1} - \\lambda_{RED})} \\times 10$$\n",
    "\n",
    "where:\n",
    "\n",
    "- $R_{rs,NIR}$ is the spectral reflectance measured in the near infrared waveband (band B08)\n",
    "- $R_{rs,RED}$ is the spectral reflectance measured in the red waveband (band B04)\n",
    "- $R_{rs,RED_2}$ is the spectral reflectance measured in the red edge waveband (band B06)\n",
    "- $R_{rs,SWIR_1}$ is the spectral reflectance measured in the shortwave infrared (band B11)\n",
    "- $\\lambda_{NIR} = 832.9$\n",
    "- $\\lambda_{RED} = 664.8$\n",
    "- $\\lambda_{SWIR_1} = 1612.05$"
   ]
  },
  {
   "cell_type": "code",
   "execution_count": null,
   "metadata": {},
   "outputs": [],
   "source": [
    "def calculate_fdi(scene):\n",
    "    '''Compute FDI index'''\n",
    "    NIR = scene[l2abands.index(\"B8\")] \n",
    "    RED2 = scene[l2abands.index(\"B6\")]\n",
    "    SWIR1 = scene[l2abands.index(\"B11\")] \n",
    "\n",
    "    lambda_NIR = 832.9\n",
    "    lambda_RED = 664.8\n",
    "    lambda_SWIR1 = 1612.05\n",
    "    NIR_prime = RED2 + (SWIR1 - RED2) * 10 * (lambda_NIR - lambda_RED) / (lambda_SWIR1 - lambda_RED)\n",
    "    return NIR - NIR_prime\n",
    "\n",
    "def calculate_ndvi(scene):\n",
    "    '''Compute NDVI index'''\n",
    "    NIR = scene[l2abands.index(\"B8\")].float()\n",
    "    RED = scene[l2abands.index(\"B4\")].float()\n",
    "    return (NIR - RED) / (NIR + RED + 1e-12)"
   ]
  },
  {
   "cell_type": "code",
   "execution_count": null,
   "metadata": {},
   "outputs": [],
   "source": [
    "#Compute the NDVI and FDI bands corresponding to the image\n",
    "fdi = calculate_fdi(image).cpu().detach().numpy()\n",
    "fdi = np.expand_dims(fdi,0)\n",
    "fdi = np.squeeze(fdi,0)\n",
    "ndvi = calculate_ndvi(image).cpu().detach().numpy()\n",
    "\n",
    "#Compute RGB representation\n",
    "tensor = np.stack([image[l2abands.index('B4')], image[l2abands.index('B3')], image[l2abands.index('B2')]])\n",
    "rgb = equalize_hist(tensor.swapaxes(0,1).swapaxes(1,2))\n",
    "\n",
    "#Configure visualisation settings\n",
    "cmap_magma = matplotlib.cm.get_cmap('magma')\n",
    "cmap_viridis = matplotlib.cm.get_cmap('viridis')\n",
    "cmap_terrain = matplotlib.cm.get_cmap('terrain')\n",
    "norm_fdi = matplotlib.colors.Normalize(vmin=0, vmax=0.1)\n",
    "norm_ndvi = matplotlib.colors.Normalize(vmin=-.4, vmax=0.4)\n",
    "norm = matplotlib.colors.Normalize(vmin=0, vmax=0.4)"
   ]
  },
  {
   "cell_type": "markdown",
   "metadata": {},
   "source": [
    "Here we create the interactive plots."
   ]
  },
  {
   "cell_type": "code",
   "execution_count": null,
   "metadata": {},
   "outputs": [],
   "source": [
    "general_settings = {'x':'x', 'y':'y', 'data_aspect':1, 'flip_yaxis':True, \n",
    "                    'xaxis':False, 'yaxis':None, 'tools':['tap', 'box_select']}\n",
    "\n",
    "#RGB\n",
    "#convert to 'xarray.DataArray'\n",
    "RGB_xr = xr.DataArray(rgb, dims=['y', 'x', 'band'], \n",
    "                      coords={'y': np.arange(rgb.shape[0]),\n",
    "                              'x': np.arange(rgb.shape[1]), \n",
    "                              'band': np.arange(rgb.shape[2])})\n",
    "plot_RGB = RGB_xr.hvplot.rgb(**general_settings, bands='band', title='RGB')\n",
    "\n",
    "#FDI\n",
    "FDI = cmap_magma(norm_fdi(fdi))\n",
    "FDI_tmp = FDI[:,:,0:3]\n",
    "#convert to 'xarray.DataArray'\n",
    "FDI_xr = xr.DataArray(FDI_tmp, dims=['y', 'x', 'band'], \n",
    "                      coords={'y': np.arange(FDI_tmp.shape[0]),\n",
    "                              'x': np.arange(FDI_tmp.shape[1]), \n",
    "                              'band': np.arange(FDI_tmp.shape[2])})\n",
    "plot_FDI = FDI_xr.hvplot.rgb(**general_settings, bands='band', title='FDI')\n",
    "\n",
    "#NDVI\n",
    "NDVI = cmap_viridis(norm_ndvi(ndvi))\n",
    "NDVI_tmp = NDVI[:,:,0:3]\n",
    "#convert to 'xarray.DataArray'\n",
    "NDVI_xr = xr.DataArray(NDVI_tmp, dims=['y', 'x', 'band'], \n",
    "                       coords={'y': np.arange(NDVI_tmp.shape[0]),\n",
    "                               'x': np.arange(NDVI_tmp.shape[1]),\n",
    "                               'band': np.arange(NDVI_tmp.shape[2])})\n",
    "plot_NDVI = NDVI_xr.hvplot.rgb(**general_settings, bands='band', title='NDVI')\n",
    "\n",
    "#Predictions\n",
    "Predictions = cmap_magma(norm(y_score))\n",
    "#convert to 'xarray.DataArray'\n",
    "Predictions_xr = xr.DataArray(Predictions, dims=['y', 'x', 'band'], \n",
    "                              coords={'y': np.arange(Predictions.shape[0]),\n",
    "                                      'x': np.arange(Predictions.shape[1]), \n",
    "                                      'band': np.arange(Predictions.shape[2])})\n",
    "plot_Predictions = Predictions_xr.hvplot.rgb(**general_settings, bands='band', title='Predictions')\n",
    "\n",
    "#Classification\n",
    "Classification = np.where(y_score>0.4, 1, 0)\n",
    "#convert to 'xarray.DataArray'\n",
    "Classification_xr = xr.DataArray(Classification, dims=['y', 'x'], \n",
    "                                 coords={'y': np.arange(Classification.shape[0]),\n",
    "                                         'x': np.arange(Classification.shape[1])})\n",
    "plot_Classification = Classification_xr.hvplot(**general_settings, cmap='viridis', colorbar=False, title='Classification')"
   ]
  },
  {
   "cell_type": "code",
   "execution_count": null,
   "metadata": {},
   "outputs": [],
   "source": [
    "cplot =  plot_RGB + hv.Empty() + plot_FDI + plot_NDVI + plot_Predictions + plot_Classification\n",
    "cplot.cols(2)"
   ]
  },
  {
   "cell_type": "markdown",
   "metadata": {
    "tags": []
   },
   "source": [
    "## Use Cases\n",
    "In this section we validate our model on specific use cases. The images tested are provided in the [Zenodo repository](https://zenodo.org/record/5827377#.YdgfjGjMK9I)."
   ]
  },
  {
   "cell_type": "markdown",
   "metadata": {},
   "source": [
    "### Plastic Litter Project (PLP) 2021\n",
    "Here we validate the selected model on a Sentinel-2 scene capturing the deployed targets of the latest edition of the [Plastic Litter Project (PLP)](http://plp.aegean.gr/category/experiment-log-2021/) in Mytilene, Greece. The scene was acquired on the 21st of June 2021 (http://plp.aegean.gr/2021/06/21/target-2-placement-2/) and captures two targets:\n",
    "- a circular 28m diameter target composed of high-density polyethylene (HDPE) mesh, covering a total area of 615m$^2$;\n",
    "- a wooden target built with a rectangular grid pattern achieving the same pixel area coverage as the HDPE mesh target."
   ]
  },
  {
   "cell_type": "code",
   "execution_count": null,
   "metadata": {},
   "outputs": [],
   "source": [
    "def visualise(**images):\n",
    "    '''Visualisation function'''\n",
    "    n = len(images)\n",
    "    plt.figure(figsize=(25, 25))\n",
    "    for i, (name, image) in enumerate(images.items()):\n",
    "        plt.subplot(1, n, i + 1)\n",
    "        plt.xticks([])\n",
    "        plt.yticks([])\n",
    "        plt.title(name)\n",
    "        plt.imshow(image)\n",
    "    plt.show()\n",
    "\n",
    "def run_preds(test_image):\n",
    "    '''Run the model over the test image and plot the results'''\n",
    "    with rio.open(test_image, \"r\") as src_pred:\n",
    "        meta = src_pred.meta\n",
    "        image = src_pred.read()\n",
    "\n",
    "    #If L1C image (13 bands), read only the 12 bands compatible with L2A data\n",
    "    if (image.shape[0] == 13):\n",
    "        image = image[[l1cbands.index(b) for b in l2abands]]\n",
    "\n",
    "    #Compute RGB representation\n",
    "    tensor = np.stack([image[l2abands.index('B4')], image[l2abands.index('B3')], image[l2abands.index('B2')]])\n",
    "    rgb = equalize_hist(tensor.swapaxes(0,1).swapaxes(1,2))\n",
    "\n",
    "    image = image.astype(float)\n",
    "    image *= 1e-4\n",
    "    image = torch.from_numpy(image)\n",
    "\n",
    "    #Compute predictions\n",
    "    with torch.no_grad():\n",
    "        x = image.unsqueeze(0)\n",
    "        y_logits = torch.sigmoid(model(x.to(device)).squeeze(0))\n",
    "        y_score = y_logits.cpu().detach().numpy()[0]\n",
    "\n",
    "    #Compute the NDVI and FDI bands corresponding to the image\n",
    "    fdi = np.squeeze(np.expand_dims(calculate_fdi(image),0),0)\n",
    "    ndvi = calculate_ndvi(image)\n",
    "    \n",
    "    visualise(\n",
    "        RGB = rgb,\n",
    "        FDI = cmap_magma(norm_fdi(fdi)),\n",
    "        NDVI = cmap_viridis(norm_ndvi(ndvi)),\n",
    "        Predictions = cmap_magma(norm(y_score)),\n",
    "        Classification = np.where(y_score>0.5, 1, 0)\n",
    "    )"
   ]
  },
  {
   "cell_type": "markdown",
   "metadata": {},
   "source": [
    "We can see that the model was able to accurately predict floating-object scores."
   ]
  },
  {
   "cell_type": "code",
   "execution_count": null,
   "metadata": {},
   "outputs": [],
   "source": [
    "#Read test image\n",
    "test_image = './ocean-modelling-litter-philab/mytilini_20210621.tif'\n",
    "run_preds(test_image)"
   ]
  },
  {
   "cell_type": "markdown",
   "metadata": {},
   "source": [
    "### Sargassum\n",
    "Here we validate our model in a Sentinel-2 scene captured on the 14th of September 2018, likely to contain sargassum in the coastal area of Cancun, Mexico."
   ]
  },
  {
   "cell_type": "code",
   "execution_count": null,
   "metadata": {},
   "outputs": [],
   "source": [
    "#Read test image\n",
    "test_image = './ocean-modelling-litter-philab/cancun_20180914.tif'\n",
    "run_preds(test_image)"
   ]
  },
  {
   "cell_type": "markdown",
   "metadata": {},
   "source": [
    "### Ice\n",
    "Here we validate our model in a Sentinel-2 scene captured on the 30th of January 2018 containing ice in the coastal area of Tangshan, China."
   ]
  },
  {
   "cell_type": "code",
   "execution_count": null,
   "metadata": {},
   "outputs": [],
   "source": [
    "#Read test image\n",
    "test_image = './ocean-modelling-litter-philab/tangshan_20180130.tif'\n",
    "run_preds(test_image)"
   ]
  },
  {
   "cell_type": "markdown",
   "metadata": {},
   "source": [
    "## Summary"
   ]
  },
  {
   "cell_type": "markdown",
   "metadata": {},
   "source": [
    "In this notebook we have explored the use of deep learning-based segmentation models to detect and delineate floating targets on Sentinel-2 coastal scenes. We have developed the following pipeline:\n",
    "\n",
    "\n",
    "* using the `sentinelsat` package, fetch a Sentinel-2 image over a coastal area from the Sentinel-Hub service, specifying the bounding box coordinates describing an Area Of Interest (AOI) in the reference system WGS84 (EPSG:4326);\n",
    "* re-project and clip the retrieved Sentinel-2 image to the exact AOI, using the `geopandas` library;\n",
    "* visualise the different Sentinel-2 bands on an interactive map, using the `hvplot` package;\n",
    "* display the AOI on a real map;\n",
    "* export the Sentinel-2 scene as a .tif image, using the `rasterio` library;\n",
    "* provide an option to fetch data from a Zenodo repository, using the `zenodo_get` package;\n",
    "* compute model predictions on several use cases using pre-trained model weights for U-Net;\n",
    "* visualise the RGB image, the NDVI and FDI indices along with the model predictions on interactive maps."
   ]
  }
 ],
 "metadata": {
  "kernelspec": {
   "display_name": "Python 3",
   "language": "python",
   "name": "python3"
  },
  "language_info": {
   "codemirror_mode": {
    "name": "ipython",
    "version": 3
   },
   "file_extension": ".py",
   "mimetype": "text/x-python",
   "name": "python",
   "nbconvert_exporter": "python",
   "pygments_lexer": "ipython3",
   "version": "3.8.6"
  }
 },
 "nbformat": 4,
 "nbformat_minor": 4
}